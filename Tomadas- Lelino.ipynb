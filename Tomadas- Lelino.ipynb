{
 "cells": [
  {
   "cell_type": "markdown",
   "id": "06e58fab",
   "metadata": {},
   "source": [
    "# Quantidade mínima de tomadas, por cômodo, de acordo com a  NBR-5410"
   ]
  },
  {
   "cell_type": "raw",
   "id": "f461bd59",
   "metadata": {},
   "source": [
    "Etapas:\n",
    "1-Criando uma tabela com valores para cada cômodo de uma casa.\n",
    "2-Entrada de dados: valor do cômodo e dimensões.\n",
    "3-Calculando o perímetro do cômodo.\n",
    "4-Defindindo a quantidade mínima de tomadas por cômodos\n"
   ]
  },
  {
   "cell_type": "code",
   "execution_count": 5,
   "id": "21064391",
   "metadata": {},
   "outputs": [
    {
     "name": "stdout",
     "output_type": "stream",
     "text": [
      "Tabela dos cômodos:\n",
      "\n",
      "-Banheiro ou Varanda = 1\n",
      "-Cozinha, Copa, Área de serviço ou Lavandeira = 2\n",
      "-Sala ou Dormitórios = 3\n",
      "\n",
      "Digite o número do cômodo da casa de acodo com a tabela:1\n",
      "Digite o comprimento do cômodu em mestros:2\n",
      "Digite a largura do cômodo em metros:2\n",
      "\n",
      "Você deve colocar, no mínimo, 1 ponto de tomada.\n"
     ]
    }
   ],
   "source": [
    "#Criando uma tabela de escolha:\n",
    "print('Tabela dos cômodos:')\n",
    "lugares=('\\n-Banheiro ou Varanda = 1','-Cozinha, Copa, Área de serviço ou Lavandeira = 2','-Sala ou Dormitórios = 3')\n",
    "for lugar in lugares:print(lugar)\n",
    "    \n",
    "# Entrada de dados\n",
    "A1 = float(input('\\nDigite o número do cômodo da casa de acodo com a tabela:'))\n",
    "C = float(input('Digite o comprimento do cômodu em mestros:'))\n",
    "L = float(input('Digite a largura do cômodo em metros:'))\n",
    "\n",
    "# Calculos dos perímetros de acordo com a norma\n",
    "P1 =round(2*(C+L)/3.5)\n",
    "P2 =round(0.4*(C+L))\n",
    "\n",
    "# Definindo quantidade de tomadas por cômodo.\n",
    "if A1==1:print('\\nVocê deve colocar, no mínimo, 1 ponto de tomada.')\n",
    "elif A1==2:print('\\nVocê deve colocar, no mínimo, ' + str(P1) +' ponto(s) de tomada a cada 3,5m.')\n",
    "else:print('\\nVocê deve colocar, no mínimo,' + str(P2) +' ponto(s) de tomada a cada 5m.')\n"
   ]
  },
  {
   "cell_type": "code",
   "execution_count": null,
   "id": "151278a2",
   "metadata": {},
   "outputs": [],
   "source": []
  }
 ],
 "metadata": {
  "kernelspec": {
   "display_name": "Python 3 (ipykernel)",
   "language": "python",
   "name": "python3"
  },
  "language_info": {
   "codemirror_mode": {
    "name": "ipython",
    "version": 3
   },
   "file_extension": ".py",
   "mimetype": "text/x-python",
   "name": "python",
   "nbconvert_exporter": "python",
   "pygments_lexer": "ipython3",
   "version": "3.9.7"
  }
 },
 "nbformat": 4,
 "nbformat_minor": 5
}
